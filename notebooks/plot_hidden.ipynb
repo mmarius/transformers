{
 "cells": [
  {
   "cell_type": "markdown",
   "metadata": {},
   "source": [
    "# Compare hidden states when using causal and bidirectional attention"
   ]
  },
  {
   "cell_type": "code",
   "execution_count": null,
   "metadata": {},
   "outputs": [],
   "source": [
    "import os\n",
    "from pathlib import Path\n",
    "\n",
    "import scipy\n",
    "import matplotlib.pyplot as plt\n",
    "import numpy as np "
   ]
  },
  {
   "cell_type": "code",
   "execution_count": null,
   "metadata": {},
   "outputs": [],
   "source": [
    "model_name_or_path = \"EleutherAI/gpt-neo-1.3B\"\n",
    "# model_name_or_path = \"princeton-nlp/Sheared-LLaMA-1.3B\"\n",
    "# model_name_or_path = \"meta-llama/Llama-2-7b-hf\"\n",
    "# model_name_or_path = \"meta-llama/Llama-2-7b-chat-hf\"\n",
    "# model_name_or_path = \"mistralai/Mistral-7B-v0.1\"\n",
    "# model_name_or_path = \"mistralai/Mistral-7B-Instruct-v0.2\""
   ]
  },
  {
   "cell_type": "code",
   "execution_count": null,
   "metadata": {},
   "outputs": [],
   "source": [
    "data_path = f\"/projects/transformers/hidden_states_data/{model_name_or_path.split('/')[-1]}\""
   ]
  },
  {
   "cell_type": "code",
   "execution_count": null,
   "metadata": {},
   "outputs": [],
   "source": [
    "num_layers = 24\n",
    "\n",
    "colors = plt.cm.plasma(np.linspace(0, 1, num_layers))\n",
    "\n",
    "fig, axes = plt.subplots(nrows=1, ncols=1, sharex=False, sharey=False, figsize=(5, 3.5), dpi=120)\n",
    "\n",
    "for idx, layer in enumerate(range(num_layers)):\n",
    "    H_c = np.load(os.path.join(data_path, \"causal\", f\"H_layer{layer}.npy\")).squeeze()\n",
    "    H_b = np.load(os.path.join(data_path, \"bidirectional\", f\"H_layer{layer}.npy\")).squeeze()\n",
    "    # l2 = np.linalg.norm(H_c - H_b, axis=1)\n",
    "    \n",
    "    cosine_sim = [1 - scipy.spatial.distance.cosine(H_c[pos], H_b[pos]) for pos in range(len(H_c))]\n",
    "    \n",
    "    axes.plot(cosine_sim, label=f\"layer={layer}\", c=colors[idx])\n",
    "\n",
    "# format plot\n",
    "axes.set_xlabel(\"token position\")\n",
    "axes.set_ylabel(\"cosine similarity\")\n",
    "axes.set_ylim(0, 1)\n",
    "# axes.set_yscale(\"log\")\n",
    "# axes.legend(loc=\"best\", fontsize=10)\n",
    "\n",
    "axes.set_title(model_name_or_path)\n",
    "\n",
    "fig.tight_layout()\n",
    "plt.show()\n",
    "plt.close();"
   ]
  },
  {
   "cell_type": "code",
   "execution_count": null,
   "metadata": {},
   "outputs": [],
   "source": []
  }
 ],
 "metadata": {
  "kernelspec": {
   "display_name": "Python 3",
   "language": "python",
   "name": "python3"
  },
  "language_info": {
   "codemirror_mode": {
    "name": "ipython",
    "version": 3
   },
   "file_extension": ".py",
   "mimetype": "text/x-python",
   "name": "python",
   "nbconvert_exporter": "python",
   "pygments_lexer": "ipython3",
   "version": "3.10.13"
  }
 },
 "nbformat": 4,
 "nbformat_minor": 2
}
